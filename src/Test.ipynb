{
  "cells": [
    {
      "cell_type": "code",
      "execution_count": 1,
      "metadata": {
        "id": "MRE6pU0OXOz6"
      },
      "outputs": [],
      "source": [
        "import os\n",
        "import cv2\n",
        "import numpy as np\n",
        "from tqdm import tqdm\n",
        "import matplotlib.pyplot as plt\n",
        "from sklearn.metrics import confusion_matrix \n",
        "import itertools\n",
        "import zipfile\n",
        "from PIL import Image"
      ]
    },
    {
      "cell_type": "code",
      "source": [
        "from google.colab import drive\n",
        "\n",
        "drive.mount('/content/gdrive',force_remount = True)"
      ],
      "metadata": {
        "colab": {
          "base_uri": "https://localhost:8080/"
        },
        "id": "i77ee7Q-Xhc7",
        "outputId": "2ffa880d-7303-4bcb-9b06-59af33a46c20"
      },
      "execution_count": 2,
      "outputs": [
        {
          "output_type": "stream",
          "name": "stdout",
          "text": [
            "Mounted at /content/gdrive\n"
          ]
        }
      ]
    },
    {
      "cell_type": "code",
      "source": [
        "cd /content/gdrive/MyDrive/ML Project/FireNet-LightWeight-Network-for-Fire-Detection"
      ],
      "metadata": {
        "colab": {
          "base_uri": "https://localhost:8080/"
        },
        "id": "oYKFwnYafPwF",
        "outputId": "4d4f0e91-27b9-4209-ede3-cf14d63574b9"
      },
      "execution_count": 3,
      "outputs": [
        {
          "output_type": "stream",
          "name": "stdout",
          "text": [
            "/content/gdrive/MyDrive/ML Project/FireNet-LightWeight-Network-for-Fire-Detection\n"
          ]
        }
      ]
    },
    {
      "cell_type": "code",
      "source": [
        "IMG_SIZE = 64\n",
        "CATEGORIES = ['Fire', 'NoFire']\n",
        "def create_training_data():\n",
        "    training_data = []\n",
        "    cnt = 0\n",
        "    with zipfile.ZipFile('Dataset/Test_Dataset1__Our_Own_Dataset.zip', 'r') as zfile:\n",
        "      file_list = zfile.namelist()\n",
        "      for path in file_list:\n",
        "        cnt = cnt+1\n",
        "        if \".jpg\" in path:\n",
        "          data = zfile.read(path)\n",
        "          img_array = cv2.imdecode(np.frombuffer(data, np.uint8), 1)\n",
        "          new_array = cv2.resize(img_array, (IMG_SIZE, IMG_SIZE))\n",
        "          class_num = CATEGORIES.index(\"Fire\")\n",
        "          if \"NoFire\" in path:\n",
        "            class_num = CATEGORIES.index(\"NoFire\")\n",
        "          training_data.append([new_array, class_num])\n",
        "    zfile.close()\n",
        "    return(training_data)"
      ],
      "metadata": {
        "id": "_uz-y1dicNI5"
      },
      "execution_count": 4,
      "outputs": []
    },
    {
      "cell_type": "code",
      "source": [
        "training_data = create_training_data()"
      ],
      "metadata": {
        "id": "ubqTLiVSiLjz"
      },
      "execution_count": 5,
      "outputs": []
    },
    {
      "cell_type": "code",
      "source": [
        "X = []\n",
        "Y = []\n",
        "\n",
        "for features,label in training_data:\n",
        "    X.append(features)\n",
        "    Y.append(label)\n",
        "\n",
        "X = np.array(X).reshape(-1, IMG_SIZE, IMG_SIZE, 3)\n",
        "X = X/255.0\n",
        "X.shape[1:]"
      ],
      "metadata": {
        "id": "XAP9dmyWiRsu",
        "colab": {
          "base_uri": "https://localhost:8080/"
        },
        "outputId": "13b629ee-6d21-4fc1-d53b-38ae7b223282"
      },
      "execution_count": 6,
      "outputs": [
        {
          "output_type": "execute_result",
          "data": {
            "text/plain": [
              "(64, 64, 3)"
            ]
          },
          "metadata": {},
          "execution_count": 6
        }
      ]
    },
    {
      "cell_type": "code",
      "source": [
        "X.shape"
      ],
      "metadata": {
        "id": "9G9A_U5dlqmB",
        "colab": {
          "base_uri": "https://localhost:8080/"
        },
        "outputId": "5c9aa3f7-8a71-4032-9545-5370cf2f535c"
      },
      "execution_count": 7,
      "outputs": [
        {
          "output_type": "execute_result",
          "data": {
            "text/plain": [
              "(871, 64, 64, 3)"
            ]
          },
          "metadata": {},
          "execution_count": 7
        }
      ]
    },
    {
      "cell_type": "code",
      "source": [
        "len(Y)"
      ],
      "metadata": {
        "id": "RcUvHdB-loYB",
        "colab": {
          "base_uri": "https://localhost:8080/"
        },
        "outputId": "8d617416-f752-4308-fa24-5bd0ae2aecc4"
      },
      "execution_count": 8,
      "outputs": [
        {
          "output_type": "execute_result",
          "data": {
            "text/plain": [
              "871"
            ]
          },
          "metadata": {},
          "execution_count": 8
        }
      ]
    },
    {
      "cell_type": "code",
      "execution_count": 9,
      "metadata": {
        "id": "4w4eURtgXO0D"
      },
      "outputs": [],
      "source": [
        "from keras.models import load_model\n",
        "model=load_model('TrainedModels/Models/weights.233-0.9601.h5')"
      ]
    },
    {
      "cell_type": "code",
      "execution_count": 10,
      "metadata": {
        "id": "uncz8oYsXO0E"
      },
      "outputs": [],
      "source": [
        "predicted_labels=model.predict(X)\n",
        "predicted_labels = predicted_labels.argmax(axis = 1)"
      ]
    },
    {
      "cell_type": "code",
      "execution_count": 11,
      "metadata": {
        "id": "WM_I4nulXO0F",
        "colab": {
          "base_uri": "https://localhost:8080/",
          "height": 349
        },
        "outputId": "269bfb78-b07e-4cdb-dd6f-8381f185c6e3"
      },
      "outputs": [
        {
          "output_type": "stream",
          "name": "stdout",
          "text": [
            "Confusion matrix, without normalization\n",
            "[[579  14]\n",
            " [ 65 213]]\n"
          ]
        },
        {
          "output_type": "display_data",
          "data": {
            "text/plain": [
              "<Figure size 432x288 with 2 Axes>"
            ],
            "image/png": "[encoded data removed]"
          },
          "metadata": {
            "needs_background": "light"
          }
        }
      ],
      "source": [
        "def plot_confusion_matrix(cm, classes,\n",
        "                          normalize=False,\n",
        "                          title='Confusion matrix',\n",
        "                          cmap=plt.cm.Blues):\n",
        "    if normalize:\n",
        "        cm = cm.astype('float') / cm.sum(axis=1)[:, np.newaxis]\n",
        "        print(\"Normalized confusion matrix\")\n",
        "    else:\n",
        "        print('Confusion matrix, without normalization')\n",
        "\n",
        "    print(cm)\n",
        "\n",
        "    plt.imshow(cm, interpolation='nearest', cmap=cmap)\n",
        "    plt.title(title)\n",
        "    plt.colorbar()\n",
        "    tick_marks = np.arange(len(classes))\n",
        "    plt.xticks(tick_marks, classes, rotation=45)\n",
        "    plt.yticks(tick_marks, classes)\n",
        "\n",
        "    fmt = '.2f' if normalize else 'd'\n",
        "    thresh = cm.max() / 2.\n",
        "    for i, j in itertools.product(range(cm.shape[0]), range(cm.shape[1])):\n",
        "        plt.text(j, i, format(cm[i, j], fmt),\n",
        "                 horizontalalignment=\"center\",\n",
        "                 color=\"white\" if cm[i, j] > thresh else \"black\")\n",
        "\n",
        "    plt.ylabel('True label')\n",
        "    plt.xlabel('Predicted label')\n",
        "    plt.tight_layout()\n",
        "\n",
        "cm = confusion_matrix(Y, predicted_labels)\n",
        "cm_plot_labels=['Fire','No Fire']\n",
        "plot_confusion_matrix(cm, cm_plot_labels,title='Confusion Matrix')"
      ]
    },
    {
      "cell_type": "code",
      "execution_count": 12,
      "metadata": {
        "id": "Md-kuWHfXO0H",
        "colab": {
          "base_uri": "https://localhost:8080/"
        },
        "outputId": "0638eab9-99c6-4b95-b0ee-a5b631b35624"
      },
      "outputs": [
        {
          "output_type": "stream",
          "name": "stdout",
          "text": [
            "tp 579\n",
            "fn 14\n",
            "fp 65\n",
            "tn 213\n"
          ]
        }
      ],
      "source": [
        "tp=cm[0][0]\n",
        "fn=cm[0][1]\n",
        "fp=cm[1][0]\n",
        "tn=cm[1][1]\n",
        "print(\"tp\"+' '+str(tp))\n",
        "print(\"fn\"+' '+str(fn))\n",
        "print(\"fp\"+' '+str(fp))\n",
        "print(\"tn\"+' '+str(tn))"
      ]
    },
    {
      "cell_type": "code",
      "execution_count": 14,
      "metadata": {
        "id": "Zz0BwxwoXO0I",
        "colab": {
          "base_uri": "https://localhost:8080/"
        },
        "outputId": "87f3ef64-f6c1-485f-f5c1-53d1b1338b8a"
      },
      "outputs": [
        {
          "output_type": "stream",
          "name": "stdout",
          "text": [
            "0.8990683229813664 0.9763912310286678 0.9361358124494745\n"
          ]
        }
      ],
      "source": [
        "Recall=tp/(tp+fn)\n",
        "Precision=tp/(tp+fp)\n",
        "f_measure= 2*((Precision*Recall)/(Precision+Recall))\n",
        "\n",
        "print(Precision, Recall, f_measure)\n",
        "\n"
      ]
    }
  ],
  "metadata": {
    "kernelspec": {
      "display_name": "Python 3",
      "language": "python",
      "name": "python3"
    },
    "language_info": {
      "codemirror_mode": {
        "name": "ipython",
        "version": 3
      },
      "file_extension": ".py",
      "mimetype": "text/x-python",
      "name": "python",
      "nbconvert_exporter": "python",
      "pygments_lexer": "ipython3",
      "version": "3.6.5"
    },
    "colab": {
      "name": "Test.ipynb",
      "provenance": [],
      "collapsed_sections": []
    }
  },
  "nbformat": 4,
  "nbformat_minor": 0
}